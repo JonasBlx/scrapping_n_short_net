{
 "cells": [
  {
   "cell_type": "markdown",
   "metadata": {},
   "source": [
    "# Ne marche pas"
   ]
  },
  {
   "cell_type": "code",
   "execution_count": 1,
   "metadata": {},
   "outputs": [
    {
     "name": "stdout",
     "output_type": "stream",
     "text": [
      "Ticker trouvé : RXEEY pour l'entreprise Rexel\n"
     ]
    }
   ],
   "source": [
    "import requests\n",
    "\n",
    "def trouver_ticker_alpha_vantage(nom_entreprise, api_key):\n",
    "    URL = \"https://www.alphavantage.co/query\"\n",
    "    PARAMS = {\n",
    "        \"function\": \"SYMBOL_SEARCH\",\n",
    "        \"keywords\": nom_entreprise,\n",
    "        \"apikey\": api_key\n",
    "    }\n",
    "    \n",
    "    response = requests.get(URL, params=PARAMS)\n",
    "    data = response.json()\n",
    "    \n",
    "    try:\n",
    "        # Le premier résultat est généralement le plus pertinent\n",
    "        premier_resultat = data['bestMatches'][0]\n",
    "        ticker = premier_resultat['1. symbol']\n",
    "        nom = premier_resultat['2. name']\n",
    "        return ticker, nom\n",
    "    except (IndexError, KeyError):\n",
    "        return None, \"Ticker non trouvé\"\n",
    "\n",
    "# Exemple d'utilisation\n",
    "API_KEY = \"YF87IT8CKLWAR3NB\"\n",
    "nom_entreprise = \"REXEL\"\n",
    "ticker, nom = trouver_ticker_alpha_vantage(nom_entreprise, API_KEY)\n",
    "if ticker:\n",
    "    print(f\"Ticker trouvé : {ticker} pour l'entreprise {nom}\")\n",
    "else:\n",
    "    print(\"Entreprise non trouvée.\")"
   ]
  }
 ],
 "metadata": {
  "kernelspec": {
   "display_name": "short_net",
   "language": "python",
   "name": "python3"
  },
  "language_info": {
   "codemirror_mode": {
    "name": "ipython",
    "version": 3
   },
   "file_extension": ".py",
   "mimetype": "text/x-python",
   "name": "python",
   "nbconvert_exporter": "python",
   "pygments_lexer": "ipython3",
   "version": "3.8.8"
  }
 },
 "nbformat": 4,
 "nbformat_minor": 2
}
